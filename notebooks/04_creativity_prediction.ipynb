{
 "cells": [
  {
   "cell_type": "code",
   "execution_count": 2,
   "metadata": {},
   "outputs": [],
   "source": [
    "# ==============================\n",
    "# REQUIRED LIBRARIES\n",
    "# ==============================\n",
    "import pandas as pd\n",
    "from sklearn.ensemble import RandomForestRegressor\n",
    "from sklearn.model_selection import train_test_split\n",
    "from sklearn.metrics import mean_squared_error, r2_score"
   ]
  },
  {
   "cell_type": "markdown",
   "metadata": {},
   "source": [
    "T1W Scan Random Forest Regressor"
   ]
  },
  {
   "cell_type": "code",
   "execution_count": 10,
   "metadata": {},
   "outputs": [
    {
     "name": "stdout",
     "output_type": "stream",
     "text": [
      "Mean Squared Error for all T1W: 0.24776576590501298\n",
      "R² Score for all T1W: -0.05518002250771037\n",
      "OOB Score: -0.08140889116194217\n"
     ]
    }
   ],
   "source": [
    "# do here\n",
    "# ranodm forest for cbi that measures response variables, test with other features like the brain scans\n",
    "# try different combos or all at once see what works\n",
    "\n",
    "# so pretty much use random forest on brain scans to try and predict cbi_overall\n",
    "\n",
    "data = pd.read_csv(\"../data/features/data.csv\")\n",
    "\n",
    "X = data.loc[:, 'T1w_region_0_mean':'T1w_region_46_mean']\n",
    "y = data['CBI_Overall']\n",
    "\n",
    "X_train, X_test, y_train, y_test = train_test_split(X, y, test_size=0.3, random_state=4)\n",
    "\n",
    "rf = RandomForestRegressor(n_estimators=50, max_depth=5, min_samples_split=5, \n",
    "max_features='sqrt', min_samples_leaf=4, random_state=4, oob_score=True)\n",
    "rf.fit(X_train, y_train)\n",
    "\n",
    "y_pred = rf.predict(X_test)\n",
    "\n",
    "mse = mean_squared_error(y_test, y_pred)\n",
    "r2 = r2_score(y_test, y_pred)\n",
    "\n",
    "print(\"Mean Squared Error for all T1W:\", mse)\n",
    "print(\"R² Score for all T1W:\", r2)\n",
    "print(\"OOB Score:\", rf.oob_score_)\n"
   ]
  },
  {
   "cell_type": "markdown",
   "metadata": {},
   "source": [
    "TW2 Scans Random Forest Regressor"
   ]
  },
  {
   "cell_type": "code",
   "execution_count": 13,
   "metadata": {},
   "outputs": [
    {
     "name": "stdout",
     "output_type": "stream",
     "text": [
      "Mean Squared Error for all T2W: 0.2273327404999999\n",
      "R² Score for all T2W: 0.03183974847642168\n"
     ]
    }
   ],
   "source": [
    "X = data.loc[:, 'T2w_region_0_mean':'T2w_region_46_mean']\n",
    "y = data['CBI_Overall']\n",
    "\n",
    "X_train, X_test, y_train, y_test = train_test_split(X, y, test_size=0.3, random_state=4)\n",
    "\n",
    "rf = RandomForestRegressor(n_estimators=200, max_depth=15, random_state=4, oob_score=True)\n",
    "rf.fit(X_train, y_train)\n",
    "\n",
    "y_pred = rf.predict(X_test)\n",
    "\n",
    "mse = mean_squared_error(y_test, y_pred)\n",
    "r2 = r2_score(y_test, y_pred)\n",
    "\n",
    "print(\"Mean Squared Error for all T2W:\", mse)\n",
    "print(\"R² Score for all T2W:\", r2)\n",
    "print(\"OOB Score:\", rf.oob_score_)\n",
    "\n"
   ]
  },
  {
   "cell_type": "markdown",
   "metadata": {},
   "source": [
    "T1W and T2W Random Forest Regression"
   ]
  },
  {
   "cell_type": "code",
   "execution_count": 11,
   "metadata": {},
   "outputs": [
    {
     "name": "stdout",
     "output_type": "stream",
     "text": [
      "Mean Squared Error for all T1W and T2W: 0.24577852656683197\n",
      "R² Score for all T1W and T2W: -0.04671680628439279\n",
      "OOB Score: -0.1947297837975619\n"
     ]
    }
   ],
   "source": [
    "X = data.loc[:, 'T1w_region_0_mean':'T2w_region_46_mean']\n",
    "y = data['CBI_Overall']\n",
    "\n",
    "X_train, X_test, y_train, y_test = train_test_split(X, y, test_size=0.3, random_state=4)\n",
    "\n",
    "rf = RandomForestRegressor(n_estimators=50, max_depth=5, min_samples_split=5, \n",
    "max_features='sqrt', min_samples_leaf=4, random_state=4, oob_score=True)\n",
    "rf.fit(X_train, y_train)\n",
    "\n",
    "y_pred = rf.predict(X_test)\n",
    "\n",
    "mse = mean_squared_error(y_test, y_pred)\n",
    "r2 = r2_score(y_test, y_pred)\n",
    "\n",
    "print(\"Mean Squared Error for all T1W and T2W:\", mse)\n",
    "print(\"R² Score for all T1W and T2W:\", r2)\n",
    "print(\"OOB Score:\", rf.oob_score_)"
   ]
  },
  {
   "cell_type": "markdown",
   "metadata": {},
   "source": [
    "dwi scan random forest regressor"
   ]
  },
  {
   "cell_type": "code",
   "execution_count": 22,
   "metadata": {},
   "outputs": [
    {
     "name": "stdout",
     "output_type": "stream",
     "text": [
      "Mean Squared Error for all DWI: 0.22598965162499995\n",
      "R² Score for all DWI: 0.037559669241809535\n",
      "OOB Score: -0.41142864338028073\n"
     ]
    }
   ],
   "source": [
    "X = data.loc[:, 'dwi_region_0_fa_mean':'dwi_region_46_ad_mean']\n",
    "y = data['CBI_Overall']\n",
    "\n",
    "X_train, X_test, y_train, y_test = train_test_split(X, y, test_size=0.3, random_state=4)\n",
    "\n",
    "rf = RandomForestRegressor(n_estimators=200, max_depth=15, random_state=4, oob_score=True)\n",
    "rf.fit(X_train, y_train)\n",
    "\n",
    "y_pred = rf.predict(X_test)\n",
    "\n",
    "mse = mean_squared_error(y_test, y_pred)\n",
    "r2 = r2_score(y_test, y_pred)\n",
    "\n",
    "print(\"Mean Squared Error for all DWI:\", mse)\n",
    "print(\"R² Score for all DWI:\", r2)\n",
    "print(\"OOB Score:\", rf.oob_score_)"
   ]
  },
  {
   "cell_type": "markdown",
   "metadata": {},
   "source": [
    "T1W-DWI Random Forest Regressor"
   ]
  },
  {
   "cell_type": "code",
   "execution_count": 24,
   "metadata": {},
   "outputs": [
    {
     "name": "stdout",
     "output_type": "stream",
     "text": [
      "Mean Squared Error for all T1W through DWI: 0.21548671000000005\n",
      "R² Score for all T1W through DWI: 0.08228939265530688\n",
      "OOB Score: -0.3762052661918207\n"
     ]
    }
   ],
   "source": [
    "X = data.loc[:, 'T1w_region_0_mean':'dwi_region_46_ad_mean']\n",
    "y = data['CBI_Overall']\n",
    "\n",
    "X_train, X_test, y_train, y_test = train_test_split(X, y, test_size=0.3, random_state=4)\n",
    "\n",
    "rf = RandomForestRegressor(n_estimators=200, max_depth=15, random_state=4, oob_score=True)\n",
    "rf.fit(X_train, y_train)\n",
    "\n",
    "y_pred = rf.predict(X_test)\n",
    "\n",
    "mse = mean_squared_error(y_test, y_pred)\n",
    "r2 = r2_score(y_test, y_pred)\n",
    "\n",
    "print(\"Mean Squared Error for all T1W through DWI:\", mse)\n",
    "print(\"R² Score for all T1W through DWI:\", r2)\n",
    "print(\"OOB Score:\", rf.oob_score_)"
   ]
  },
  {
   "cell_type": "markdown",
   "metadata": {},
   "source": [
    "FMRI Scan Random Forest Regressor"
   ]
  },
  {
   "cell_type": "code",
   "execution_count": 25,
   "metadata": {},
   "outputs": [
    {
     "name": "stdout",
     "output_type": "stream",
     "text": [
      "Mean Squared Error for all T1W through DWI: 0.27316766937500003\n",
      "R² Score for all T1W through DWI: -0.163361154704462\n",
      "OOB Score: 0.029138338747703774\n"
     ]
    }
   ],
   "source": [
    "\n",
    "X = data.loc[:, 'fmri_region_0_mean_activation':'fmri_region_46_kurtosis_activation']\n",
    "y = data['CBI_Overall']\n",
    "\n",
    "X_train, X_test, y_train, y_test = train_test_split(X, y, test_size=0.3, random_state=4)\n",
    "\n",
    "rf = RandomForestRegressor(n_estimators=200, max_depth=15, random_state=4, oob_score=True)\n",
    "rf.fit(X_train, y_train)\n",
    "\n",
    "y_pred = rf.predict(X_test)\n",
    "\n",
    "mse = mean_squared_error(y_test, y_pred)\n",
    "r2 = r2_score(y_test, y_pred)\n",
    "\n",
    "print(\"Mean Squared Error for all FMRI:\", mse)\n",
    "print(\"R² Score for all FMRI:\", r2)\n",
    "print(\"OOB Score:\", rf.oob_score_)"
   ]
  },
  {
   "cell_type": "markdown",
   "metadata": {},
   "source": [
    "All Scans Random Forest Regression"
   ]
  },
  {
   "cell_type": "code",
   "execution_count": 13,
   "metadata": {},
   "outputs": [
    {
     "name": "stdout",
     "output_type": "stream",
     "text": [
      "Mean Squared Error for all scans: 0.22127110822095047\n",
      "R² Score for all scans: 0.057654910071801124\n",
      "OOB Score: -0.1330596148256744\n"
     ]
    }
   ],
   "source": [
    "X = data.loc[:, 'T1w_region_0_mean':'fmri_region_46_kurtosis_activation']\n",
    "y = data['CBI_Overall']\n",
    "\n",
    "X_train, X_test, y_train, y_test = train_test_split(X, y, test_size=0.3, random_state=4)\n",
    "\n",
    "rf = RandomForestRegressor(n_estimators=100, max_depth=10, min_samples_split=5, \n",
    "max_features='sqrt', min_samples_leaf=4, random_state=4, oob_score=True)\n",
    "rf.fit(X_train, y_train)\n",
    "\n",
    "y_pred = rf.predict(X_test)\n",
    "\n",
    "mse = mean_squared_error(y_test, y_pred)\n",
    "r2 = r2_score(y_test, y_pred)\n",
    "\n",
    "print(\"Mean Squared Error for all scans:\", mse)\n",
    "print(\"R² Score for all scans:\", r2)\n",
    "print(\"OOB Score:\", rf.oob_score_)"
   ]
  },
  {
   "cell_type": "markdown",
   "metadata": {},
   "source": [
    "Everything in dataset"
   ]
  },
  {
   "cell_type": "code",
   "execution_count": 17,
   "metadata": {},
   "outputs": [
    {
     "name": "stdout",
     "output_type": "stream",
     "text": [
      "Mean Squared Error for all scans: 0.2044786348164877\n",
      "R² Score for all scans: 0.12917036903829193\n",
      "OOB Score: -0.01218085848924666\n"
     ]
    }
   ],
   "source": [
    "X = data.loc[:, 'T1w_region_0_mean':'conn_45_46']\n",
    "y = data['CBI_Overall']\n",
    "\n",
    "X_train, X_test, y_train, y_test = train_test_split(X, y, test_size=0.3, random_state=4)\n",
    "\n",
    "rf = RandomForestRegressor(n_estimators=500, max_depth=15, min_samples_split=5, \n",
    "max_features='sqrt', min_samples_leaf=4, random_state=4, oob_score=True)\n",
    "rf.fit(X_train, y_train)\n",
    "\n",
    "y_pred = rf.predict(X_test)\n",
    "\n",
    "mse = mean_squared_error(y_test, y_pred)\n",
    "r2 = r2_score(y_test, y_pred)\n",
    "\n",
    "print(\"Mean Squared Error for all scans:\", mse)\n",
    "print(\"R² Score for all scans:\", r2)\n",
    "print(\"OOB Score:\", rf.oob_score_)"
   ]
  }
 ],
 "metadata": {
  "kernelspec": {
   "display_name": "Python 3.12.9 ('neuro')",
   "language": "python",
   "name": "python3"
  },
  "language_info": {
   "codemirror_mode": {
    "name": "ipython",
    "version": 3
   },
   "file_extension": ".py",
   "mimetype": "text/x-python",
   "name": "python",
   "nbconvert_exporter": "python",
   "pygments_lexer": "ipython3",
   "version": "3.12.9"
  },
  "orig_nbformat": 4,
  "vscode": {
   "interpreter": {
    "hash": "ff46ab9eaa26181d689d3d18fbf648a4797600da809f8f2181a41be4b6cd971e"
   }
  }
 },
 "nbformat": 4,
 "nbformat_minor": 2
}
